{
 "metadata": {
  "language_info": {
   "codemirror_mode": {
    "name": "ipython",
    "version": 3
   },
   "file_extension": ".py",
   "mimetype": "text/x-python",
   "name": "python",
   "nbconvert_exporter": "python",
   "pygments_lexer": "ipython3",
   "version": "3.8.6-final"
  },
  "orig_nbformat": 2,
  "kernelspec": {
   "name": "python3",
   "display_name": "Python 3.8.6 64-bit ('rl': venv)",
   "metadata": {
    "interpreter": {
     "hash": "8f2b65e0f307dab7425f28ae6e0a2df90287e9beb30a8401009830eabbcdbb50"
    }
   }
  }
 },
 "nbformat": 4,
 "nbformat_minor": 2,
 "cells": [
  {
   "cell_type": "code",
   "execution_count": 11,
   "metadata": {},
   "outputs": [],
   "source": [
    "import gym\n",
    "import numpy as np\n",
    "import torch\n",
    "import torch.nn as nn\n",
    "import torch.nn.functional as F\n",
    "import torchvision.models as models\n",
    "import torch.optim as optim\n",
    "from torch.distributions.normal import Normal\n",
    "import matplotlib.pyplot as plt"
   ]
  },
  {
   "cell_type": "code",
   "execution_count": 12,
   "metadata": {},
   "outputs": [],
   "source": [
    "class VPGBuffer():\n",
    "    def __init__(self, size, obs_dim, act_dim, gamma=0.99, lam=0.95):\n",
    "        self.obs_buf = np.zeros((size, obs_dim), dtype=np.float32)\n",
    "        self.act_buf = np.zeros((size, act_dim), dtype=np.float32)\n",
    "        self.rew_buf = np.zeros(size, dtype=np.float32)\n",
    "        self.ret_buf = np.zeros(size, dtype=np.float32)\n",
    "        self.val_buf = np.zeros(size, dtype=np.float32)\n",
    "        self.adv_buf = np.zeros(size, dtype=np.float32)\n",
    "        self.logp_buf = np.zeros(size, dtype=np.float32)\n",
    "        self.gamma = gamma\n",
    "        self.lam = lam\n",
    "        self.max_size = size\n",
    "        self.ptr = 0\n",
    "        self.traj_start_idx = 0\n",
    "\n",
    "\n",
    "    def _discount_cumsum(self, x, discount):\n",
    "        \"\"\"\n",
    "        The code below calculates the cummulative discounted sum.\n",
    "        A more efficient way of doing it, but less readible is the following:\n",
    "            return scipy.signal.lfilter([1], [1, float(-discount)], x[::-1], axis=0)[::-1]\n",
    "        \"\"\"\n",
    "        cumsum = np.zeros(len(x), dtype=np.float32)\n",
    "        cumsum[-1] = x[-1]\n",
    "        for i in range(len(x) - 2, -1, -1):\n",
    "            cumsum[i] = x[i] + discount * cumsum[i+1]\n",
    "        return cumsum\n",
    "        \n",
    "\n",
    "    def store(self, obs, act, rew, val, logp):\n",
    "        assert self.ptr < self.max_size # there must be space in the buffer to store\n",
    "\n",
    "        self.obs_buf[self.ptr] = obs\n",
    "        self.act_buf[self.ptr] = act\n",
    "        self.rew_buf[self.ptr] = rew\n",
    "        self.val_buf[self.ptr] = val\n",
    "        self.logp_buf[self.ptr] = logp\n",
    "        self.ptr += 1\n",
    "\n",
    "\n",
    "    def end_trajectory(self, last_val):\n",
    "        traj_slice = slice(self.traj_start_idx, self.ptr)\n",
    "        rews = np.append(self.rew_buf[traj_slice], last_val)\n",
    "        vals = np.append(self.val_buf[traj_slice], last_val)\n",
    "\n",
    "        # the next two lines implement GAE-Lambda advantage calculation\n",
    "        deltas = rews[:-1] + self.gamma * vals[1:] - vals[:-1]\n",
    "        self.adv_buf[traj_slice] = self._discount_cumsum(deltas, self.gamma * self.lam)\n",
    "\n",
    "        # the next line computes the reward to go\n",
    "        self.ret_buf[traj_slice] = self._discount_cumsum(rews, self.gamma)[:-1]\n",
    "\n",
    "        self.traj_start_idx = self.ptr\n",
    "\n",
    "\n",
    "    def get(self):\n",
    "        assert self.ptr == self.max_size # buffer must be full\n",
    "\n",
    "        # reset the buffer\n",
    "        self.ptr, self.traj_start_idx = 0, 0\n",
    "\n",
    "        # normalize advantages for training stability\n",
    "        adv_mean = np.mean(self.adv_buf)\n",
    "        adv_std = np.std(self.adv_buf)\n",
    "        self.adv_buf = (self.adv_buf - adv_mean) / adv_std\n",
    "\n",
    "        data = dict(obs=self.obs_buf, act=self.act_buf, ret=self.ret_buf, adv=self.adv_buf, logp=self.logp_buf)\n",
    "\n",
    "        # convert data to dict of torch tensors\n",
    "        data = {k: torch.as_tensor(v, dtype=torch.float32) for k,v in data.items()}\n",
    "\n",
    "        return data"
   ]
  },
  {
   "cell_type": "code",
   "execution_count": 13,
   "metadata": {},
   "outputs": [],
   "source": [
    "class Actor(nn.Module):\n",
    "    def __init__(self, obs_dim, act_dim):\n",
    "        super().__init__()\n",
    "        modules = []\n",
    "        modules.append(nn.Linear(obs_dim, 256))\n",
    "        modules.append(nn.ReLU())\n",
    "        modules.append(nn.Linear(256, 64))\n",
    "        modules.append(nn.ReLU())\n",
    "        modules.append(nn.Linear(64, act_dim))\n",
    "\n",
    "        log_std = -0.5 * np.ones(act_dim, dtype=np.float32)\n",
    "        self.log_std = torch.nn.Parameter(torch.as_tensor(log_std))\n",
    "        self.mu_net = nn.Sequential(*modules)\n",
    "\n",
    "\n",
    "    def _distribution(self, obs):\n",
    "        mu = self.mu_net(obs)\n",
    "        std = torch.exp(self.log_std)\n",
    "        return Normal(mu, std)\n",
    "\n",
    "    \n",
    "    def _log_prob_from_distribution(self, pi, act):\n",
    "        return pi.log_prob(act).sum(axis=-1)    # Last axis sum needed for Torch Normal distribution\n",
    "\n",
    "    \n",
    "    def forward(self, obs, act=None):\n",
    "        # Produce action distributions for given observations, and \n",
    "        # optionally compute the log likelihood of given actions under\n",
    "        # those distributions.\n",
    "        pi = self._distribution(obs)\n",
    "        logp_a = None\n",
    "        if act is not None:\n",
    "            logp_a = self._log_prob_from_distribution(pi, act)\n",
    "        return pi, logp_a"
   ]
  },
  {
   "cell_type": "code",
   "execution_count": 14,
   "metadata": {},
   "outputs": [],
   "source": [
    "class Critic(nn.Module):\n",
    "\n",
    "    def __init__(self, obs_dim):\n",
    "        super().__init__()\n",
    "        modules = []\n",
    "        modules.append(nn.Linear(obs_dim, 256))\n",
    "        modules.append(nn.ReLU())\n",
    "        modules.append(nn.Linear(256, 64))\n",
    "        modules.append(nn.ReLU())\n",
    "        modules.append(nn.Linear(64, 1))\n",
    "        self.v_net = nn.Sequential(*modules)\n",
    "\n",
    "    def forward(self, obs):\n",
    "        return torch.squeeze(self.v_net(obs), -1) # Critical to ensure v has right shape."
   ]
  },
  {
   "cell_type": "code",
   "execution_count": 15,
   "metadata": {},
   "outputs": [],
   "source": [
    "class ActorCritic(nn.Module):\n",
    "    def __init__(self, obs_dim, act_dim):\n",
    "        super().__init__()\n",
    "\n",
    "        self.v = Critic(obs_dim)\n",
    "        self.pi = Actor(obs_dim, act_dim)\n",
    "\n",
    "    def step(self, obs):\n",
    "        with torch.no_grad():\n",
    "            pi = self.pi._distribution(obs)\n",
    "            a = pi.sample()\n",
    "            logp_a = self.pi._log_prob_from_distribution(pi, a)\n",
    "            v = self.v(obs)\n",
    "        return a.numpy(), v.numpy(), logp_a.numpy()\n",
    "\n",
    "    def act(self, obs):\n",
    "        return self.step(obs)[0]"
   ]
  },
  {
   "cell_type": "code",
   "execution_count": 16,
   "metadata": {},
   "outputs": [],
   "source": [
    "class VPGAgent():\n",
    "    def __init__(self, obs_dim, act_dim, gamma=0.99, pi_lr=5e-3, vf_lr=5e-3, lam=0.97, train_v_iters=20, steps_per_epoch=4000):\n",
    "        \n",
    "        self.buf = VPGBuffer(steps_per_epoch, obs_dim, act_dim, gamma, lam)\n",
    "\n",
    "        self.ac = ActorCritic(obs_dim, act_dim)\n",
    "\n",
    "        # Set up optimizers for policy and value function\n",
    "        self.pi_optimizer = optim.Adam(self.ac.pi.parameters(), lr=pi_lr)\n",
    "        self.vf_optimizer = optim.Adam(self.ac.v.parameters(), lr=vf_lr)\n",
    "\n",
    "        self.steps_per_epoch = steps_per_epoch\n",
    "        self.train_v_iters = train_v_iters\n",
    "\n",
    "\n",
    "    def _compute_loss_pi(self, data):\n",
    "        obs, act, adv, logp_old = data['obs'], data['act'], data['adv'], data['logp']\n",
    "\n",
    "        # Policy loss\n",
    "        pi, logp = self.ac.pi(obs, act)\n",
    "        loss_pi = -(logp * adv).mean() # negative log probability loss\n",
    "\n",
    "        return loss_pi\n",
    "\n",
    "\n",
    "    def _compute_loss_v(self, data):\n",
    "        obs, ret = data['obs'], data['ret']\n",
    "        return ((self.ac.v(obs) - ret)**2).mean() # MSE  \n",
    "\n",
    "    def update(self):\n",
    "        data = self.buf.get()\n",
    "\n",
    "        # Train policy with a single step of gradient descent\n",
    "        self.pi_optimizer.zero_grad()\n",
    "        loss_pi = self._compute_loss_pi(data)\n",
    "        loss_pi.backward()\n",
    "        self.pi_optimizer.step()\n",
    "\n",
    "        for i in range(self.train_v_iters):\n",
    "            self.vf_optimizer.zero_grad()\n",
    "            loss_v = self._compute_loss_v(data)\n",
    "            loss_v.backward()\n",
    "            self.vf_optimizer.step()"
   ]
  },
  {
   "cell_type": "code",
   "execution_count": 17,
   "metadata": {},
   "outputs": [],
   "source": [
    "def train(agent, env_name, epochs=200, max_ep_len=1000):\n",
    "    ep_ret, ep_len = 0, 0\n",
    "    ep_rets = []\n",
    "    avg_rets = []\n",
    "    for epoch in range(epochs):\n",
    "        env = gym.make(env_name)\n",
    "        o = env.reset()\n",
    "        for t in range(agent.steps_per_epoch):\n",
    "            a, v, logp = agent.ac.step(torch.as_tensor(np.ascontiguousarray(o), dtype=torch.float32).unsqueeze(0))\n",
    "            a = a.squeeze(0)\n",
    "            next_o, r, d, _ = env.step(a)\n",
    "            ep_ret += r\n",
    "            ep_len += 1\n",
    "\n",
    "            agent.buf.store(o, a, r, v, logp)\n",
    "\n",
    "            o = next_o\n",
    "\n",
    "            timeout = ep_len == max_ep_len\n",
    "            terminal = d or timeout\n",
    "            epoch_ended = t == agent.steps_per_epoch - 1\n",
    "\n",
    "            if terminal or epoch_ended:\n",
    "                if timeout or epoch_ended:\n",
    "                    _, v, _ = agent.ac.step(torch.as_tensor(np.ascontiguousarray(o), dtype=torch.float32).unsqueeze(0))\n",
    "                else:\n",
    "                    v = 0\n",
    "                agent.buf.end_trajectory(v)\n",
    "                ep_rets.append(ep_ret)\n",
    "                o, ep_ret, ep_len = env.reset(), 0, 0\n",
    "\n",
    "        agent.update()\n",
    "        env.close()\n",
    "        avg_ep_ret = np.mean(ep_rets[-100:])\n",
    "        avg_rets.append(avg_ep_ret)\n",
    "        if (epoch + 1) % 10 == 0:\n",
    "            print('Epoch: ', epoch+1,'avg ep_ret: ', avg_ep_ret, \"total num ep: \", len(ep_rets))\n",
    "\n",
    "    return avg_rets"
   ]
  },
  {
   "cell_type": "code",
   "execution_count": 18,
   "metadata": {},
   "outputs": [],
   "source": [
    "env_name = \"LunarLanderContinuous-v2\"\n",
    "agent = VPGAgent(8, 2)"
   ]
  },
  {
   "cell_type": "code",
   "execution_count": 19,
   "metadata": {},
   "outputs": [
    {
     "output_type": "stream",
     "name": "stdout",
     "text": [
      "Epoch:  10 avg ep_ret:  -108.6451619983744 total num ep:  424\n",
      "Epoch:  20 avg ep_ret:  -155.63615509523027 total num ep:  706\n",
      "Epoch:  30 avg ep_ret:  -10.517660625346917 total num ep:  846\n",
      "Epoch:  40 avg ep_ret:  -10.478946457850189 total num ep:  896\n",
      "Epoch:  50 avg ep_ret:  1.8516006100877838 total num ep:  949\n",
      "Epoch:  60 avg ep_ret:  35.14366979722727 total num ep:  1085\n",
      "Epoch:  70 avg ep_ret:  -2.2713190809327135 total num ep:  1129\n",
      "Epoch:  80 avg ep_ret:  -66.6157265752813 total num ep:  1170\n",
      "Epoch:  90 avg ep_ret:  -93.75334962522876 total num ep:  1210\n",
      "Epoch:  100 avg ep_ret:  -46.63471911176582 total num ep:  1250\n",
      "Epoch:  110 avg ep_ret:  -1.492982632464869 total num ep:  1307\n",
      "Epoch:  120 avg ep_ret:  -3.8503365348050202 total num ep:  1348\n",
      "Epoch:  130 avg ep_ret:  -36.9981265695811 total num ep:  1388\n",
      "Epoch:  140 avg ep_ret:  -55.34412654085581 total num ep:  1431\n",
      "Epoch:  150 avg ep_ret:  -45.78025795058443 total num ep:  1471\n",
      "Epoch:  160 avg ep_ret:  9.936609780031326 total num ep:  1529\n",
      "Epoch:  170 avg ep_ret:  65.51550891141694 total num ep:  1590\n",
      "Epoch:  180 avg ep_ret:  43.363834344188774 total num ep:  1663\n",
      "Epoch:  190 avg ep_ret:  29.592408876022475 total num ep:  1719\n",
      "Epoch:  200 avg ep_ret:  41.330598228187576 total num ep:  1768\n"
     ]
    }
   ],
   "source": [
    "rets = train(agent, env_name, epochs=500)"
   ]
  },
  {
   "cell_type": "code",
   "execution_count": 20,
   "metadata": {},
   "outputs": [
    {
     "output_type": "execute_result",
     "data": {
      "text/plain": [
       "[<matplotlib.lines.Line2D at 0x7f4040b35940>]"
      ]
     },
     "metadata": {},
     "execution_count": 20
    },
    {
     "output_type": "display_data",
     "data": {
      "text/plain": "<Figure size 432x288 with 1 Axes>",
      "image/svg+xml": "<?xml version=\"1.0\" encoding=\"utf-8\" standalone=\"no\"?>\n<!DOCTYPE svg PUBLIC \"-//W3C//DTD SVG 1.1//EN\"\n  \"http://www.w3.org/Graphics/SVG/1.1/DTD/svg11.dtd\">\n<!-- Created with matplotlib (https://matplotlib.org/) -->\n<svg height=\"248.518125pt\" version=\"1.1\" viewBox=\"0 0 383.667188 248.518125\" width=\"383.667188pt\" xmlns=\"http://www.w3.org/2000/svg\" xmlns:xlink=\"http://www.w3.org/1999/xlink\">\n <metadata>\n  <rdf:RDF xmlns:cc=\"http://creativecommons.org/ns#\" xmlns:dc=\"http://purl.org/dc/elements/1.1/\" xmlns:rdf=\"http://www.w3.org/1999/02/22-rdf-syntax-ns#\">\n   <cc:Work>\n    <dc:type rdf:resource=\"http://purl.org/dc/dcmitype/StillImage\"/>\n    <dc:date>2021-02-21T09:51:17.342015</dc:date>\n    <dc:format>image/svg+xml</dc:format>\n    <dc:creator>\n     <cc:Agent>\n      <dc:title>Matplotlib v3.3.3, https://matplotlib.org/</dc:title>\n     </cc:Agent>\n    </dc:creator>\n   </cc:Work>\n  </rdf:RDF>\n </metadata>\n <defs>\n  <style type=\"text/css\">*{stroke-linecap:butt;stroke-linejoin:round;}</style>\n </defs>\n <g id=\"figure_1\">\n  <g id=\"patch_1\">\n   <path d=\"M 0 248.518125 \nL 383.667188 248.518125 \nL 383.667188 0 \nL 0 0 \nz\n\" style=\"fill:none;\"/>\n  </g>\n  <g id=\"axes_1\">\n   <g id=\"patch_2\">\n    <path d=\"M 41.667188 224.64 \nL 376.467188 224.64 \nL 376.467188 7.2 \nL 41.667188 7.2 \nz\n\" style=\"fill:#ffffff;\"/>\n   </g>\n   <g id=\"matplotlib.axis_1\">\n    <g id=\"xtick_1\">\n     <g id=\"line2d_1\">\n      <defs>\n       <path d=\"M 0 0 \nL 0 3.5 \n\" id=\"m29d958d7fc\" style=\"stroke:#000000;stroke-width:0.8;\"/>\n      </defs>\n      <g>\n       <use style=\"stroke:#000000;stroke-width:0.8;\" x=\"56.885369\" xlink:href=\"#m29d958d7fc\" y=\"224.64\"/>\n      </g>\n     </g>\n     <g id=\"text_1\">\n      <!-- 0 -->\n      <g transform=\"translate(53.704119 239.238437)scale(0.1 -0.1)\">\n       <defs>\n        <path d=\"M 31.78125 66.40625 \nQ 24.171875 66.40625 20.328125 58.90625 \nQ 16.5 51.421875 16.5 36.375 \nQ 16.5 21.390625 20.328125 13.890625 \nQ 24.171875 6.390625 31.78125 6.390625 \nQ 39.453125 6.390625 43.28125 13.890625 \nQ 47.125 21.390625 47.125 36.375 \nQ 47.125 51.421875 43.28125 58.90625 \nQ 39.453125 66.40625 31.78125 66.40625 \nz\nM 31.78125 74.21875 \nQ 44.046875 74.21875 50.515625 64.515625 \nQ 56.984375 54.828125 56.984375 36.375 \nQ 56.984375 17.96875 50.515625 8.265625 \nQ 44.046875 -1.421875 31.78125 -1.421875 \nQ 19.53125 -1.421875 13.0625 8.265625 \nQ 6.59375 17.96875 6.59375 36.375 \nQ 6.59375 54.828125 13.0625 64.515625 \nQ 19.53125 74.21875 31.78125 74.21875 \nz\n\" id=\"DejaVuSans-48\"/>\n       </defs>\n       <use xlink:href=\"#DejaVuSans-48\"/>\n      </g>\n     </g>\n    </g>\n    <g id=\"xtick_2\">\n     <g id=\"line2d_2\">\n      <g>\n       <use style=\"stroke:#000000;stroke-width:0.8;\" x=\"95.122007\" xlink:href=\"#m29d958d7fc\" y=\"224.64\"/>\n      </g>\n     </g>\n     <g id=\"text_2\">\n      <!-- 25 -->\n      <g transform=\"translate(88.759507 239.238437)scale(0.1 -0.1)\">\n       <defs>\n        <path d=\"M 19.1875 8.296875 \nL 53.609375 8.296875 \nL 53.609375 0 \nL 7.328125 0 \nL 7.328125 8.296875 \nQ 12.9375 14.109375 22.625 23.890625 \nQ 32.328125 33.6875 34.8125 36.53125 \nQ 39.546875 41.84375 41.421875 45.53125 \nQ 43.3125 49.21875 43.3125 52.78125 \nQ 43.3125 58.59375 39.234375 62.25 \nQ 35.15625 65.921875 28.609375 65.921875 \nQ 23.96875 65.921875 18.8125 64.3125 \nQ 13.671875 62.703125 7.8125 59.421875 \nL 7.8125 69.390625 \nQ 13.765625 71.78125 18.9375 73 \nQ 24.125 74.21875 28.421875 74.21875 \nQ 39.75 74.21875 46.484375 68.546875 \nQ 53.21875 62.890625 53.21875 53.421875 \nQ 53.21875 48.921875 51.53125 44.890625 \nQ 49.859375 40.875 45.40625 35.40625 \nQ 44.1875 33.984375 37.640625 27.21875 \nQ 31.109375 20.453125 19.1875 8.296875 \nz\n\" id=\"DejaVuSans-50\"/>\n        <path d=\"M 10.796875 72.90625 \nL 49.515625 72.90625 \nL 49.515625 64.59375 \nL 19.828125 64.59375 \nL 19.828125 46.734375 \nQ 21.96875 47.46875 24.109375 47.828125 \nQ 26.265625 48.1875 28.421875 48.1875 \nQ 40.625 48.1875 47.75 41.5 \nQ 54.890625 34.8125 54.890625 23.390625 \nQ 54.890625 11.625 47.5625 5.09375 \nQ 40.234375 -1.421875 26.90625 -1.421875 \nQ 22.3125 -1.421875 17.546875 -0.640625 \nQ 12.796875 0.140625 7.71875 1.703125 \nL 7.71875 11.625 \nQ 12.109375 9.234375 16.796875 8.0625 \nQ 21.484375 6.890625 26.703125 6.890625 \nQ 35.15625 6.890625 40.078125 11.328125 \nQ 45.015625 15.765625 45.015625 23.390625 \nQ 45.015625 31 40.078125 35.4375 \nQ 35.15625 39.890625 26.703125 39.890625 \nQ 22.75 39.890625 18.8125 39.015625 \nQ 14.890625 38.140625 10.796875 36.28125 \nz\n\" id=\"DejaVuSans-53\"/>\n       </defs>\n       <use xlink:href=\"#DejaVuSans-50\"/>\n       <use x=\"63.623047\" xlink:href=\"#DejaVuSans-53\"/>\n      </g>\n     </g>\n    </g>\n    <g id=\"xtick_3\">\n     <g id=\"line2d_3\">\n      <g>\n       <use style=\"stroke:#000000;stroke-width:0.8;\" x=\"133.358645\" xlink:href=\"#m29d958d7fc\" y=\"224.64\"/>\n      </g>\n     </g>\n     <g id=\"text_3\">\n      <!-- 50 -->\n      <g transform=\"translate(126.996145 239.238437)scale(0.1 -0.1)\">\n       <use xlink:href=\"#DejaVuSans-53\"/>\n       <use x=\"63.623047\" xlink:href=\"#DejaVuSans-48\"/>\n      </g>\n     </g>\n    </g>\n    <g id=\"xtick_4\">\n     <g id=\"line2d_4\">\n      <g>\n       <use style=\"stroke:#000000;stroke-width:0.8;\" x=\"171.595283\" xlink:href=\"#m29d958d7fc\" y=\"224.64\"/>\n      </g>\n     </g>\n     <g id=\"text_4\">\n      <!-- 75 -->\n      <g transform=\"translate(165.232783 239.238437)scale(0.1 -0.1)\">\n       <defs>\n        <path d=\"M 8.203125 72.90625 \nL 55.078125 72.90625 \nL 55.078125 68.703125 \nL 28.609375 0 \nL 18.3125 0 \nL 43.21875 64.59375 \nL 8.203125 64.59375 \nz\n\" id=\"DejaVuSans-55\"/>\n       </defs>\n       <use xlink:href=\"#DejaVuSans-55\"/>\n       <use x=\"63.623047\" xlink:href=\"#DejaVuSans-53\"/>\n      </g>\n     </g>\n    </g>\n    <g id=\"xtick_5\">\n     <g id=\"line2d_5\">\n      <g>\n       <use style=\"stroke:#000000;stroke-width:0.8;\" x=\"209.83192\" xlink:href=\"#m29d958d7fc\" y=\"224.64\"/>\n      </g>\n     </g>\n     <g id=\"text_5\">\n      <!-- 100 -->\n      <g transform=\"translate(200.28817 239.238437)scale(0.1 -0.1)\">\n       <defs>\n        <path d=\"M 12.40625 8.296875 \nL 28.515625 8.296875 \nL 28.515625 63.921875 \nL 10.984375 60.40625 \nL 10.984375 69.390625 \nL 28.421875 72.90625 \nL 38.28125 72.90625 \nL 38.28125 8.296875 \nL 54.390625 8.296875 \nL 54.390625 0 \nL 12.40625 0 \nz\n\" id=\"DejaVuSans-49\"/>\n       </defs>\n       <use xlink:href=\"#DejaVuSans-49\"/>\n       <use x=\"63.623047\" xlink:href=\"#DejaVuSans-48\"/>\n       <use x=\"127.246094\" xlink:href=\"#DejaVuSans-48\"/>\n      </g>\n     </g>\n    </g>\n    <g id=\"xtick_6\">\n     <g id=\"line2d_6\">\n      <g>\n       <use style=\"stroke:#000000;stroke-width:0.8;\" x=\"248.068558\" xlink:href=\"#m29d958d7fc\" y=\"224.64\"/>\n      </g>\n     </g>\n     <g id=\"text_6\">\n      <!-- 125 -->\n      <g transform=\"translate(238.524808 239.238437)scale(0.1 -0.1)\">\n       <use xlink:href=\"#DejaVuSans-49\"/>\n       <use x=\"63.623047\" xlink:href=\"#DejaVuSans-50\"/>\n       <use x=\"127.246094\" xlink:href=\"#DejaVuSans-53\"/>\n      </g>\n     </g>\n    </g>\n    <g id=\"xtick_7\">\n     <g id=\"line2d_7\">\n      <g>\n       <use style=\"stroke:#000000;stroke-width:0.8;\" x=\"286.305196\" xlink:href=\"#m29d958d7fc\" y=\"224.64\"/>\n      </g>\n     </g>\n     <g id=\"text_7\">\n      <!-- 150 -->\n      <g transform=\"translate(276.761446 239.238437)scale(0.1 -0.1)\">\n       <use xlink:href=\"#DejaVuSans-49\"/>\n       <use x=\"63.623047\" xlink:href=\"#DejaVuSans-53\"/>\n       <use x=\"127.246094\" xlink:href=\"#DejaVuSans-48\"/>\n      </g>\n     </g>\n    </g>\n    <g id=\"xtick_8\">\n     <g id=\"line2d_8\">\n      <g>\n       <use style=\"stroke:#000000;stroke-width:0.8;\" x=\"324.541833\" xlink:href=\"#m29d958d7fc\" y=\"224.64\"/>\n      </g>\n     </g>\n     <g id=\"text_8\">\n      <!-- 175 -->\n      <g transform=\"translate(314.998083 239.238437)scale(0.1 -0.1)\">\n       <use xlink:href=\"#DejaVuSans-49\"/>\n       <use x=\"63.623047\" xlink:href=\"#DejaVuSans-55\"/>\n       <use x=\"127.246094\" xlink:href=\"#DejaVuSans-53\"/>\n      </g>\n     </g>\n    </g>\n    <g id=\"xtick_9\">\n     <g id=\"line2d_9\">\n      <g>\n       <use style=\"stroke:#000000;stroke-width:0.8;\" x=\"362.778471\" xlink:href=\"#m29d958d7fc\" y=\"224.64\"/>\n      </g>\n     </g>\n     <g id=\"text_9\">\n      <!-- 200 -->\n      <g transform=\"translate(353.234721 239.238437)scale(0.1 -0.1)\">\n       <use xlink:href=\"#DejaVuSans-50\"/>\n       <use x=\"63.623047\" xlink:href=\"#DejaVuSans-48\"/>\n       <use x=\"127.246094\" xlink:href=\"#DejaVuSans-48\"/>\n      </g>\n     </g>\n    </g>\n   </g>\n   <g id=\"matplotlib.axis_2\">\n    <g id=\"ytick_1\">\n     <g id=\"line2d_10\">\n      <defs>\n       <path d=\"M 0 0 \nL -3.5 0 \n\" id=\"m350f19f19d\" style=\"stroke:#000000;stroke-width:0.8;\"/>\n      </defs>\n      <g>\n       <use style=\"stroke:#000000;stroke-width:0.8;\" x=\"41.667188\" xlink:href=\"#m350f19f19d\" y=\"201.649971\"/>\n      </g>\n     </g>\n     <g id=\"text_10\">\n      <!-- −300 -->\n      <g transform=\"translate(7.2 205.44919)scale(0.1 -0.1)\">\n       <defs>\n        <path d=\"M 10.59375 35.5 \nL 73.1875 35.5 \nL 73.1875 27.203125 \nL 10.59375 27.203125 \nz\n\" id=\"DejaVuSans-8722\"/>\n        <path d=\"M 40.578125 39.3125 \nQ 47.65625 37.796875 51.625 33 \nQ 55.609375 28.21875 55.609375 21.1875 \nQ 55.609375 10.40625 48.1875 4.484375 \nQ 40.765625 -1.421875 27.09375 -1.421875 \nQ 22.515625 -1.421875 17.65625 -0.515625 \nQ 12.796875 0.390625 7.625 2.203125 \nL 7.625 11.71875 \nQ 11.71875 9.328125 16.59375 8.109375 \nQ 21.484375 6.890625 26.8125 6.890625 \nQ 36.078125 6.890625 40.9375 10.546875 \nQ 45.796875 14.203125 45.796875 21.1875 \nQ 45.796875 27.640625 41.28125 31.265625 \nQ 36.765625 34.90625 28.71875 34.90625 \nL 20.21875 34.90625 \nL 20.21875 43.015625 \nL 29.109375 43.015625 \nQ 36.375 43.015625 40.234375 45.921875 \nQ 44.09375 48.828125 44.09375 54.296875 \nQ 44.09375 59.90625 40.109375 62.90625 \nQ 36.140625 65.921875 28.71875 65.921875 \nQ 24.65625 65.921875 20.015625 65.03125 \nQ 15.375 64.15625 9.8125 62.3125 \nL 9.8125 71.09375 \nQ 15.4375 72.65625 20.34375 73.4375 \nQ 25.25 74.21875 29.59375 74.21875 \nQ 40.828125 74.21875 47.359375 69.109375 \nQ 53.90625 64.015625 53.90625 55.328125 \nQ 53.90625 49.265625 50.4375 45.09375 \nQ 46.96875 40.921875 40.578125 39.3125 \nz\n\" id=\"DejaVuSans-51\"/>\n       </defs>\n       <use xlink:href=\"#DejaVuSans-8722\"/>\n       <use x=\"83.789062\" xlink:href=\"#DejaVuSans-51\"/>\n       <use x=\"147.412109\" xlink:href=\"#DejaVuSans-48\"/>\n       <use x=\"211.035156\" xlink:href=\"#DejaVuSans-48\"/>\n      </g>\n     </g>\n    </g>\n    <g id=\"ytick_2\">\n     <g id=\"line2d_11\">\n      <g>\n       <use style=\"stroke:#000000;stroke-width:0.8;\" x=\"41.667188\" xlink:href=\"#m350f19f19d\" y=\"176.77209\"/>\n      </g>\n     </g>\n     <g id=\"text_11\">\n      <!-- −250 -->\n      <g transform=\"translate(7.2 180.571308)scale(0.1 -0.1)\">\n       <use xlink:href=\"#DejaVuSans-8722\"/>\n       <use x=\"83.789062\" xlink:href=\"#DejaVuSans-50\"/>\n       <use x=\"147.412109\" xlink:href=\"#DejaVuSans-53\"/>\n       <use x=\"211.035156\" xlink:href=\"#DejaVuSans-48\"/>\n      </g>\n     </g>\n    </g>\n    <g id=\"ytick_3\">\n     <g id=\"line2d_12\">\n      <g>\n       <use style=\"stroke:#000000;stroke-width:0.8;\" x=\"41.667188\" xlink:href=\"#m350f19f19d\" y=\"151.894208\"/>\n      </g>\n     </g>\n     <g id=\"text_12\">\n      <!-- −200 -->\n      <g transform=\"translate(7.2 155.693427)scale(0.1 -0.1)\">\n       <use xlink:href=\"#DejaVuSans-8722\"/>\n       <use x=\"83.789062\" xlink:href=\"#DejaVuSans-50\"/>\n       <use x=\"147.412109\" xlink:href=\"#DejaVuSans-48\"/>\n       <use x=\"211.035156\" xlink:href=\"#DejaVuSans-48\"/>\n      </g>\n     </g>\n    </g>\n    <g id=\"ytick_4\">\n     <g id=\"line2d_13\">\n      <g>\n       <use style=\"stroke:#000000;stroke-width:0.8;\" x=\"41.667188\" xlink:href=\"#m350f19f19d\" y=\"127.016327\"/>\n      </g>\n     </g>\n     <g id=\"text_13\">\n      <!-- −150 -->\n      <g transform=\"translate(7.2 130.815546)scale(0.1 -0.1)\">\n       <use xlink:href=\"#DejaVuSans-8722\"/>\n       <use x=\"83.789062\" xlink:href=\"#DejaVuSans-49\"/>\n       <use x=\"147.412109\" xlink:href=\"#DejaVuSans-53\"/>\n       <use x=\"211.035156\" xlink:href=\"#DejaVuSans-48\"/>\n      </g>\n     </g>\n    </g>\n    <g id=\"ytick_5\">\n     <g id=\"line2d_14\">\n      <g>\n       <use style=\"stroke:#000000;stroke-width:0.8;\" x=\"41.667188\" xlink:href=\"#m350f19f19d\" y=\"102.138446\"/>\n      </g>\n     </g>\n     <g id=\"text_14\">\n      <!-- −100 -->\n      <g transform=\"translate(7.2 105.937665)scale(0.1 -0.1)\">\n       <use xlink:href=\"#DejaVuSans-8722\"/>\n       <use x=\"83.789062\" xlink:href=\"#DejaVuSans-49\"/>\n       <use x=\"147.412109\" xlink:href=\"#DejaVuSans-48\"/>\n       <use x=\"211.035156\" xlink:href=\"#DejaVuSans-48\"/>\n      </g>\n     </g>\n    </g>\n    <g id=\"ytick_6\">\n     <g id=\"line2d_15\">\n      <g>\n       <use style=\"stroke:#000000;stroke-width:0.8;\" x=\"41.667188\" xlink:href=\"#m350f19f19d\" y=\"77.260565\"/>\n      </g>\n     </g>\n     <g id=\"text_15\">\n      <!-- −50 -->\n      <g transform=\"translate(13.5625 81.059783)scale(0.1 -0.1)\">\n       <use xlink:href=\"#DejaVuSans-8722\"/>\n       <use x=\"83.789062\" xlink:href=\"#DejaVuSans-53\"/>\n       <use x=\"147.412109\" xlink:href=\"#DejaVuSans-48\"/>\n      </g>\n     </g>\n    </g>\n    <g id=\"ytick_7\">\n     <g id=\"line2d_16\">\n      <g>\n       <use style=\"stroke:#000000;stroke-width:0.8;\" x=\"41.667188\" xlink:href=\"#m350f19f19d\" y=\"52.382683\"/>\n      </g>\n     </g>\n     <g id=\"text_16\">\n      <!-- 0 -->\n      <g transform=\"translate(28.304688 56.181902)scale(0.1 -0.1)\">\n       <use xlink:href=\"#DejaVuSans-48\"/>\n      </g>\n     </g>\n    </g>\n    <g id=\"ytick_8\">\n     <g id=\"line2d_17\">\n      <g>\n       <use style=\"stroke:#000000;stroke-width:0.8;\" x=\"41.667188\" xlink:href=\"#m350f19f19d\" y=\"27.504802\"/>\n      </g>\n     </g>\n     <g id=\"text_17\">\n      <!-- 50 -->\n      <g transform=\"translate(21.942188 31.304021)scale(0.1 -0.1)\">\n       <use xlink:href=\"#DejaVuSans-53\"/>\n       <use x=\"63.623047\" xlink:href=\"#DejaVuSans-48\"/>\n      </g>\n     </g>\n    </g>\n   </g>\n   <g id=\"line2d_18\">\n    <path clip-path=\"url(#p748adc8f0c)\" d=\"M 56.885369 170.799515 \nL 58.414835 204.101736 \nL 59.9443 214.756364 \nL 63.003231 143.302018 \nL 64.532697 133.60768 \nL 66.062162 130.559545 \nL 67.591628 121.189585 \nL 69.121093 108.391087 \nL 70.650559 106.439912 \nL 72.180024 114.764806 \nL 73.70949 117.420437 \nL 75.238955 118.348527 \nL 78.297886 103.449287 \nL 79.827352 94.60312 \nL 81.356817 95.738896 \nL 82.886283 104.058294 \nL 84.415748 122.884468 \nL 85.945214 129.820639 \nL 87.47468 134.231427 \nL 89.004145 131.722854 \nL 90.533611 128.363117 \nL 92.063076 118.831127 \nL 93.592542 93.592891 \nL 95.122007 70.323603 \nL 96.651473 62.983874 \nL 98.180938 61.000759 \nL 99.710404 58.757482 \nL 102.769335 56.45823 \nL 104.2988 57.479338 \nL 107.357731 54.949459 \nL 108.887197 56.550952 \nL 110.416662 56.784027 \nL 111.946128 57.188762 \nL 113.475593 56.657619 \nL 115.005059 56.547018 \nL 116.534524 57.596563 \nL 118.06399 59.284365 \nL 119.593455 58.067089 \nL 121.122921 59.61425 \nL 122.652386 61.620324 \nL 124.181852 63.219094 \nL 125.711317 65.239835 \nL 127.240783 63.322989 \nL 128.770248 60.862685 \nL 130.299714 55.08437 \nL 131.829179 51.461405 \nL 133.358645 47.259685 \nL 134.88811 44.202347 \nL 136.417576 38.804339 \nL 137.947041 30.425188 \nL 139.476507 29.848949 \nL 141.005972 34.782466 \nL 142.535438 37.616699 \nL 144.064903 37.027921 \nL 145.594369 34.950863 \nL 147.123834 34.896683 \nL 148.6533 32.36593 \nL 150.182765 33.267779 \nL 151.712231 36.043444 \nL 153.241696 36.457491 \nL 154.771162 37.710166 \nL 156.300627 38.697883 \nL 157.830093 40.993831 \nL 159.359558 42.836694 \nL 160.889024 45.936974 \nL 163.947955 61.470109 \nL 165.47742 66.723956 \nL 167.006886 70.596737 \nL 168.536352 73.623496 \nL 170.065817 75.933451 \nL 171.595283 78.799349 \nL 173.124748 80.422931 \nL 174.654214 82.815588 \nL 176.183679 84.063134 \nL 177.713145 85.527846 \nL 179.24261 88.074904 \nL 180.772076 90.267086 \nL 182.301541 92.741253 \nL 183.831007 94.772956 \nL 185.360472 98.29818 \nL 186.889938 99.008821 \nL 188.419403 98.989303 \nL 191.478334 99.456902 \nL 194.537265 98.532467 \nL 197.596196 96.517867 \nL 200.655127 90.513515 \nL 203.714058 82.361755 \nL 205.243524 78.973266 \nL 206.772989 77.168196 \nL 212.890851 70.860807 \nL 214.420317 67.226075 \nL 217.479248 61.948554 \nL 219.008713 58.077553 \nL 220.538179 56.063906 \nL 222.067644 54.787912 \nL 223.59711 53.125528 \nL 225.126575 52.79103 \nL 226.656041 52.069715 \nL 228.185506 51.972654 \nL 229.714972 51.613964 \nL 232.773903 51.67303 \nL 234.303368 51.912602 \nL 237.362299 53.742196 \nL 238.891765 54.298448 \nL 240.42123 54.714604 \nL 243.480161 57.214172 \nL 245.009627 57.900492 \nL 246.539092 60.524775 \nL 248.068558 63.508041 \nL 249.598023 65.473208 \nL 251.127489 66.450174 \nL 252.656955 68.137692 \nL 254.18642 70.791383 \nL 255.715886 72.085315 \nL 257.245351 71.810349 \nL 258.774817 73.002632 \nL 260.304282 75.712229 \nL 261.833748 76.658942 \nL 263.363213 77.936602 \nL 264.892679 78.459015 \nL 266.422144 79.230912 \nL 267.95161 79.486727 \nL 269.481075 79.919576 \nL 271.010541 79.935129 \nL 272.540006 79.213479 \nL 274.069472 78.834755 \nL 275.598937 78.655459 \nL 277.128403 78.201156 \nL 278.657868 77.539131 \nL 280.187334 77.414829 \nL 281.716799 76.466527 \nL 284.77573 75.161 \nL 286.305196 73.701522 \nL 287.834661 71.694671 \nL 289.364127 67.808527 \nL 290.893592 67.455712 \nL 292.423058 66.14992 \nL 293.952523 63.386825 \nL 297.011454 55.597181 \nL 298.54092 53.206304 \nL 300.070385 47.438647 \nL 303.129316 40.273917 \nL 304.658782 37.334811 \nL 306.188247 35.546012 \nL 307.717713 29.960327 \nL 309.247178 23.601807 \nL 310.776644 20.121921 \nL 312.306109 18.194585 \nL 315.36504 19.784942 \nL 316.894506 17.083636 \nL 318.423971 18.823363 \nL 319.953437 20.044654 \nL 321.482902 18.94062 \nL 323.012368 21.0071 \nL 324.541833 24.197276 \nL 326.071299 27.891539 \nL 327.600764 27.045252 \nL 329.13023 25.625323 \nL 330.659695 30.806677 \nL 332.189161 32.714668 \nL 333.718627 31.315906 \nL 335.248092 30.764966 \nL 336.777558 30.906989 \nL 338.307023 29.908228 \nL 339.836489 31.600564 \nL 341.365954 30.471202 \nL 342.89542 32.055717 \nL 344.424885 34.632278 \nL 345.954351 37.658755 \nL 347.483816 38.668051 \nL 349.013282 36.142801 \nL 350.542747 38.389746 \nL 352.072213 35.609478 \nL 353.601678 34.208106 \nL 355.131144 33.985958 \nL 356.660609 33.644078 \nL 358.190075 31.289202 \nL 359.71954 30.644713 \nL 361.249006 31.818329 \nL 361.249006 31.818329 \n\" style=\"fill:none;stroke:#1f77b4;stroke-linecap:square;stroke-width:1.5;\"/>\n   </g>\n   <g id=\"patch_3\">\n    <path d=\"M 41.667188 224.64 \nL 41.667188 7.2 \n\" style=\"fill:none;stroke:#000000;stroke-linecap:square;stroke-linejoin:miter;stroke-width:0.8;\"/>\n   </g>\n   <g id=\"patch_4\">\n    <path d=\"M 376.467188 224.64 \nL 376.467188 7.2 \n\" style=\"fill:none;stroke:#000000;stroke-linecap:square;stroke-linejoin:miter;stroke-width:0.8;\"/>\n   </g>\n   <g id=\"patch_5\">\n    <path d=\"M 41.667188 224.64 \nL 376.467188 224.64 \n\" style=\"fill:none;stroke:#000000;stroke-linecap:square;stroke-linejoin:miter;stroke-width:0.8;\"/>\n   </g>\n   <g id=\"patch_6\">\n    <path d=\"M 41.667188 7.2 \nL 376.467188 7.2 \n\" style=\"fill:none;stroke:#000000;stroke-linecap:square;stroke-linejoin:miter;stroke-width:0.8;\"/>\n   </g>\n  </g>\n </g>\n <defs>\n  <clipPath id=\"p748adc8f0c\">\n   <rect height=\"217.44\" width=\"334.8\" x=\"41.667188\" y=\"7.2\"/>\n  </clipPath>\n </defs>\n</svg>\n",
      "image/png": "[encoded data removed]"
     },
     "metadata": {
      "needs_background": "light"
     }
    }
   ],
   "source": [
    "plt.plot([i for i in range(len(rets))], rets)"
   ]
  },
  {
   "cell_type": "code",
   "execution_count": null,
   "metadata": {},
   "outputs": [],
   "source": [
    "def test(agent, env_name, num_games=5):\n",
    "    env = gym.make(env_name)\n",
    "\n",
    "    for game in range(num_games):\n",
    "\n",
    "        obs = env.reset()\n",
    "\n",
    "        done = False\n",
    "        while not done:\n",
    "            act = agent.ac.act(obs)\n",
    "            obs, rew, done, _ = env.step(act)\n",
    "            env.render()\n",
    "            \n",
    "    env.close()"
   ]
  },
  {
   "cell_type": "code",
   "execution_count": null,
   "metadata": {},
   "outputs": [],
   "source": [
    "test(agent, env_name)"
   ]
  }
 ]
}